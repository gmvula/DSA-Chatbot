{
  "nbformat": 4,
  "nbformat_minor": 0,
  "metadata": {
    "colab": {
      "provenance": [],
      "collapsed_sections": []
    },
    "kernelspec": {
      "name": "python3",
      "display_name": "Python 3"
    },
    "language_info": {
      "name": "python"
    }
  },
  "cells": [
    {
      "cell_type": "code",
      "execution_count": null,
      "metadata": {
        "id": "gh6X5dic7pdW"
      },
      "outputs": [],
      "source": [
        "#Description: This is a University website chat bot program designed to answer FAQ questions"
      ]
    },
    {
      "cell_type": "code",
      "source": [
        "pip install nltk"
      ],
      "metadata": {
        "colab": {
          "base_uri": "https://localhost:8080/"
        },
        "id": "Q-PDquVf77rH",
        "outputId": "fb3f8b3d-5adf-4896-f761-ecd3fd231228"
      },
      "execution_count": 9,
      "outputs": [
        {
          "output_type": "stream",
          "name": "stdout",
          "text": [
            "Looking in indexes: https://pypi.org/simple, https://us-python.pkg.dev/colab-wheels/public/simple/\n",
            "Requirement already satisfied: nltk in /usr/local/lib/python3.7/dist-packages (3.7)\n",
            "Requirement already satisfied: regex>=2021.8.3 in /usr/local/lib/python3.7/dist-packages (from nltk) (2022.6.2)\n",
            "Requirement already satisfied: joblib in /usr/local/lib/python3.7/dist-packages (from nltk) (1.1.0)\n",
            "Requirement already satisfied: tqdm in /usr/local/lib/python3.7/dist-packages (from nltk) (4.64.1)\n",
            "Requirement already satisfied: click in /usr/local/lib/python3.7/dist-packages (from nltk) (7.1.2)\n"
          ]
        }
      ]
    },
    {
      "cell_type": "code",
      "source": [
        "pip install pdfminer.six"
      ],
      "metadata": {
        "colab": {
          "base_uri": "https://localhost:8080/"
        },
        "id": "hqnxMxJvkcwN",
        "outputId": "debb46fe-cf9a-47cb-bc22-b3e29dc4d254"
      },
      "execution_count": 10,
      "outputs": [
        {
          "output_type": "stream",
          "name": "stdout",
          "text": [
            "Looking in indexes: https://pypi.org/simple, https://us-python.pkg.dev/colab-wheels/public/simple/\n",
            "Collecting pdfminer.six\n",
            "  Downloading pdfminer.six-20220524-py3-none-any.whl (5.6 MB)\n",
            "\u001b[K     |████████████████████████████████| 5.6 MB 5.4 MB/s \n",
            "\u001b[?25hCollecting cryptography>=36.0.0\n",
            "  Downloading cryptography-38.0.1-cp36-abi3-manylinux_2_24_x86_64.whl (4.0 MB)\n",
            "\u001b[K     |████████████████████████████████| 4.0 MB 48.5 MB/s \n",
            "\u001b[?25hRequirement already satisfied: charset-normalizer>=2.0.0 in /usr/local/lib/python3.7/dist-packages (from pdfminer.six) (2.1.1)\n",
            "Requirement already satisfied: cffi>=1.12 in /usr/local/lib/python3.7/dist-packages (from cryptography>=36.0.0->pdfminer.six) (1.15.1)\n",
            "Requirement already satisfied: pycparser in /usr/local/lib/python3.7/dist-packages (from cffi>=1.12->cryptography>=36.0.0->pdfminer.six) (2.21)\n",
            "Installing collected packages: cryptography, pdfminer.six\n",
            "Successfully installed cryptography-38.0.1 pdfminer.six-20220524\n"
          ]
        }
      ]
    },
    {
      "cell_type": "code",
      "source": [
        "pip install PyPDF2"
      ],
      "metadata": {
        "colab": {
          "base_uri": "https://localhost:8080/"
        },
        "id": "TG4tvA_hkkaA",
        "outputId": "a571bfcf-e33b-4d34-c077-4f528cb5a1ed"
      },
      "execution_count": 11,
      "outputs": [
        {
          "output_type": "stream",
          "name": "stdout",
          "text": [
            "Looking in indexes: https://pypi.org/simple, https://us-python.pkg.dev/colab-wheels/public/simple/\n",
            "Collecting PyPDF2\n",
            "  Downloading PyPDF2-2.10.9-py3-none-any.whl (218 kB)\n",
            "\u001b[K     |████████████████████████████████| 218 kB 9.4 MB/s \n",
            "\u001b[?25hRequirement already satisfied: typing-extensions>=3.10.0.0 in /usr/local/lib/python3.7/dist-packages (from PyPDF2) (4.1.1)\n",
            "Installing collected packages: PyPDF2\n",
            "Successfully installed PyPDF2-2.10.9\n"
          ]
        }
      ]
    },
    {
      "cell_type": "code",
      "source": [
        "pip install newspaper3k"
      ],
      "metadata": {
        "colab": {
          "base_uri": "https://localhost:8080/"
        },
        "id": "PRC14wcA8BBg",
        "outputId": "3641f5b2-dd53-4864-d6ae-7af200ec7629"
      },
      "execution_count": 12,
      "outputs": [
        {
          "output_type": "stream",
          "name": "stdout",
          "text": [
            "Looking in indexes: https://pypi.org/simple, https://us-python.pkg.dev/colab-wheels/public/simple/\n",
            "Requirement already satisfied: newspaper3k in /usr/local/lib/python3.7/dist-packages (0.2.8)\n",
            "Requirement already satisfied: tinysegmenter==0.3 in /usr/local/lib/python3.7/dist-packages (from newspaper3k) (0.3)\n",
            "Requirement already satisfied: feedparser>=5.2.1 in /usr/local/lib/python3.7/dist-packages (from newspaper3k) (6.0.10)\n",
            "Requirement already satisfied: Pillow>=3.3.0 in /usr/local/lib/python3.7/dist-packages (from newspaper3k) (7.1.2)\n",
            "Requirement already satisfied: tldextract>=2.0.1 in /usr/local/lib/python3.7/dist-packages (from newspaper3k) (3.3.1)\n",
            "Requirement already satisfied: requests>=2.10.0 in /usr/local/lib/python3.7/dist-packages (from newspaper3k) (2.23.0)\n",
            "Requirement already satisfied: beautifulsoup4>=4.4.1 in /usr/local/lib/python3.7/dist-packages (from newspaper3k) (4.6.3)\n",
            "Requirement already satisfied: feedfinder2>=0.0.4 in /usr/local/lib/python3.7/dist-packages (from newspaper3k) (0.0.4)\n",
            "Requirement already satisfied: python-dateutil>=2.5.3 in /usr/local/lib/python3.7/dist-packages (from newspaper3k) (2.8.2)\n",
            "Requirement already satisfied: lxml>=3.6.0 in /usr/local/lib/python3.7/dist-packages (from newspaper3k) (4.9.1)\n",
            "Requirement already satisfied: cssselect>=0.9.2 in /usr/local/lib/python3.7/dist-packages (from newspaper3k) (1.1.0)\n",
            "Requirement already satisfied: jieba3k>=0.35.1 in /usr/local/lib/python3.7/dist-packages (from newspaper3k) (0.35.1)\n",
            "Requirement already satisfied: PyYAML>=3.11 in /usr/local/lib/python3.7/dist-packages (from newspaper3k) (6.0)\n",
            "Requirement already satisfied: nltk>=3.2.1 in /usr/local/lib/python3.7/dist-packages (from newspaper3k) (3.7)\n",
            "Requirement already satisfied: six in /usr/local/lib/python3.7/dist-packages (from feedfinder2>=0.0.4->newspaper3k) (1.15.0)\n",
            "Requirement already satisfied: sgmllib3k in /usr/local/lib/python3.7/dist-packages (from feedparser>=5.2.1->newspaper3k) (1.0.0)\n",
            "Requirement already satisfied: joblib in /usr/local/lib/python3.7/dist-packages (from nltk>=3.2.1->newspaper3k) (1.1.0)\n",
            "Requirement already satisfied: click in /usr/local/lib/python3.7/dist-packages (from nltk>=3.2.1->newspaper3k) (7.1.2)\n",
            "Requirement already satisfied: tqdm in /usr/local/lib/python3.7/dist-packages (from nltk>=3.2.1->newspaper3k) (4.64.1)\n",
            "Requirement already satisfied: regex>=2021.8.3 in /usr/local/lib/python3.7/dist-packages (from nltk>=3.2.1->newspaper3k) (2022.6.2)\n",
            "Requirement already satisfied: certifi>=2017.4.17 in /usr/local/lib/python3.7/dist-packages (from requests>=2.10.0->newspaper3k) (2022.6.15)\n",
            "Requirement already satisfied: chardet<4,>=3.0.2 in /usr/local/lib/python3.7/dist-packages (from requests>=2.10.0->newspaper3k) (3.0.4)\n",
            "Requirement already satisfied: urllib3!=1.25.0,!=1.25.1,<1.26,>=1.21.1 in /usr/local/lib/python3.7/dist-packages (from requests>=2.10.0->newspaper3k) (1.24.3)\n",
            "Requirement already satisfied: idna<3,>=2.5 in /usr/local/lib/python3.7/dist-packages (from requests>=2.10.0->newspaper3k) (2.10)\n",
            "Requirement already satisfied: requests-file>=1.4 in /usr/local/lib/python3.7/dist-packages (from tldextract>=2.0.1->newspaper3k) (1.5.1)\n",
            "Requirement already satisfied: filelock>=3.0.8 in /usr/local/lib/python3.7/dist-packages (from tldextract>=2.0.1->newspaper3k) (3.8.0)\n"
          ]
        }
      ]
    },
    {
      "cell_type": "code",
      "source": [
        "from newspaper import Article\n",
        "import random\n",
        "import string\n",
        "import nltk\n",
        "from nltk.chat.util import Chat, reflections\n",
        "from sklearn.feature_extraction.text import CountVectorizer\n",
        "from sklearn.metrics.pairwise import cosine_similarity\n",
        "import numpy as np\n",
        "import warnings\n",
        "warnings.filterwarnings ('ignore')"
      ],
      "metadata": {
        "id": "sIgbkiyG8YqO"
      },
      "execution_count": 13,
      "outputs": []
    },
    {
      "cell_type": "code",
      "source": [
        "# from pdfminer.high_level import extract_text\n",
        "# import pdfminer\n",
        "# from pdfminer.pdfinterp import PDFResourceManager , PDFPageInterpreter\n",
        "# from pdfminer.layout import LAParams          \n",
        "# from pdfminer.converter import TextConverter\n",
        "# from io import StringIO\n",
        "# from pdfminer.pdfpage import PDFPage\n",
        "# print(pdfminer.__version__)"
      ],
      "metadata": {
        "id": "sFSW15xMlt0J"
      },
      "execution_count": null,
      "outputs": []
    },
    {
      "cell_type": "code",
      "source": [
        "from io import StringIO\n",
        "import json\n",
        "import re\n",
        "import random\n",
        "import numpy as np\n"
      ],
      "metadata": {
        "id": "Rp5qUyZnMyN-"
      },
      "execution_count": 37,
      "outputs": []
    },
    {
      "cell_type": "code",
      "source": [],
      "metadata": {
        "id": "vSs3lbCwXK8v"
      },
      "execution_count": 28,
      "outputs": []
    },
    {
      "cell_type": "code",
      "source": [
        "##Array of users with student numbers\n",
        "def user_validation(user_info):\n",
        "  user_info = {'Mbala': 'abc', 'Sencia': '321', 'Vessy': '456',\n",
        "         'Cindy': '123', 'Gisa': 'Rocks!', 'Mukasa': 'Fin'}\n",
        "\n",
        "#loop to validate users with stud# \n",
        "  while True:\n",
        "   stud_name = input(\"Enter username: \")\n",
        "   stud_num = input(\"Enter password: \")\n",
        "     #determine if the password is correct\n",
        "   if stud_name in user_info and user_info[stud_name] == stud_num:\n",
        "    print(\"Hello \" + stud_name +\"!\")\n",
        "   else:\n",
        "    print(\"ACCESS DENIED\")\n",
        "   break"
      ],
      "metadata": {
        "id": "0sJZmy9k541w"
      },
      "execution_count": 29,
      "outputs": []
    },
    {
      "cell_type": "code",
      "source": [
        "def load_json(file):\n",
        "    with open(file) as bot_responses:\n",
        "        print(f\"Loaded '{file}' successfully!\")\n",
        "        return json.load(bot_responses)"
      ],
      "metadata": {
        "id": "g4dFtSV1M80i"
      },
      "execution_count": 28,
      "outputs": []
    },
    {
      "cell_type": "code",
      "source": [
        "response_data = load_json(\"Bot_Response.json\")"
      ],
      "metadata": {
        "colab": {
          "base_uri": "https://localhost:8080/"
        },
        "id": "g2WumWT9NGxn",
        "outputId": "8e258e25-cd89-4508-9cab-292b95c30486"
      },
      "execution_count": 6,
      "outputs": [
        {
          "output_type": "stream",
          "name": "stdout",
          "text": [
            "Loaded 'Bot_Response.json' successfully!\n"
          ]
        }
      ]
    },
    {
      "cell_type": "code",
      "source": [
        "def get_response(input_string):\n",
        "    split_message = re.split(r'\\s+|[,;?!.-]\\s*', input_string.lower())\n",
        "    score_list = []\n",
        "\n",
        "    # Check all the responses\n",
        "    for response in response_data:\n",
        "        response_score = 0\n",
        "        required_score = 0\n",
        "        required_words = response[\"required_words\"]\n",
        "\n",
        "        # Check if there are any required words\n",
        "        if required_words:\n",
        "            for word in split_message:\n",
        "                if word in required_words:\n",
        "                    required_score += 1\n",
        "\n",
        "        # Amount of required words should match the required score\n",
        "        if required_score == len(required_words):\n",
        "            # print(required_score == len(required_words))\n",
        "            # Check each word the user has typed\n",
        "            for word in split_message:\n",
        "                # If the word is in the response, add to the score\n",
        "                if word in response[\"user_input\"]:\n",
        "                    response_score += 1\n",
        "\n",
        "        # Add score to list\n",
        "        score_list.append(response_score)\n",
        "        # Debugging: Find the best phrase\n",
        "        # print(response_score, response[\"user_input\"])\n",
        "\n",
        "    # Find the best response and return it if they're not all 0\n",
        "    best_response = max(score_list)\n",
        "    response_index = score_list.index(best_response)\n",
        "\n",
        "    # Check if input is empty\n",
        "    if input_string == \"\":\n",
        "        return \"Please type something so we can chat :(\"\n",
        "\n",
        "    # If there is no good response, return a random one.\n",
        "    if best_response != 0:\n",
        "        return response_data[response_index][\"bot_response\"]\n",
        "\n",
        "    return random.choice(\"bot_response\")\n",
        "    #random_responses.random_string()\n",
        "\n",
        "\n",
        "while True:\n",
        "    user_input = input(\"You: \")\n",
        "    print(\"Bot:\", get_response(user_input))"
      ],
      "metadata": {
        "colab": {
          "base_uri": "https://localhost:8080/",
          "height": 381
        },
        "id": "RkBJtdCIaL_f",
        "outputId": "de6a40f3-0f44-4daf-ba3d-15754d433039"
      },
      "execution_count": 35,
      "outputs": [
        {
          "output_type": "error",
          "ename": "KeyboardInterrupt",
          "evalue": "ignored",
          "traceback": [
            "\u001b[0;31m---------------------------------------------------------------------------\u001b[0m",
            "\u001b[0;31mKeyboardInterrupt\u001b[0m                         Traceback (most recent call last)",
            "\u001b[0;32m<ipython-input-35-c6eb03947a69>\u001b[0m in \u001b[0;36m<module>\u001b[0;34m\u001b[0m\n\u001b[1;32m     45\u001b[0m \u001b[0;34m\u001b[0m\u001b[0m\n\u001b[1;32m     46\u001b[0m \u001b[0;32mwhile\u001b[0m \u001b[0;32mTrue\u001b[0m\u001b[0;34m:\u001b[0m\u001b[0;34m\u001b[0m\u001b[0;34m\u001b[0m\u001b[0m\n\u001b[0;32m---> 47\u001b[0;31m     \u001b[0muser_input\u001b[0m \u001b[0;34m=\u001b[0m \u001b[0minput\u001b[0m\u001b[0;34m(\u001b[0m\u001b[0;34m\"You: \"\u001b[0m\u001b[0;34m)\u001b[0m\u001b[0;34m\u001b[0m\u001b[0;34m\u001b[0m\u001b[0m\n\u001b[0m\u001b[1;32m     48\u001b[0m     \u001b[0mprint\u001b[0m\u001b[0;34m(\u001b[0m\u001b[0;34m\"Bot:\"\u001b[0m\u001b[0;34m,\u001b[0m \u001b[0mget_response\u001b[0m\u001b[0;34m(\u001b[0m\u001b[0muser_input\u001b[0m\u001b[0;34m)\u001b[0m\u001b[0;34m)\u001b[0m\u001b[0;34m\u001b[0m\u001b[0;34m\u001b[0m\u001b[0m\n",
            "\u001b[0;32m/usr/local/lib/python3.7/dist-packages/ipykernel/kernelbase.py\u001b[0m in \u001b[0;36mraw_input\u001b[0;34m(self, prompt)\u001b[0m\n\u001b[1;32m    861\u001b[0m             \u001b[0mself\u001b[0m\u001b[0;34m.\u001b[0m\u001b[0m_parent_ident\u001b[0m\u001b[0;34m,\u001b[0m\u001b[0;34m\u001b[0m\u001b[0;34m\u001b[0m\u001b[0m\n\u001b[1;32m    862\u001b[0m             \u001b[0mself\u001b[0m\u001b[0;34m.\u001b[0m\u001b[0m_parent_header\u001b[0m\u001b[0;34m,\u001b[0m\u001b[0;34m\u001b[0m\u001b[0;34m\u001b[0m\u001b[0m\n\u001b[0;32m--> 863\u001b[0;31m             \u001b[0mpassword\u001b[0m\u001b[0;34m=\u001b[0m\u001b[0;32mFalse\u001b[0m\u001b[0;34m,\u001b[0m\u001b[0;34m\u001b[0m\u001b[0;34m\u001b[0m\u001b[0m\n\u001b[0m\u001b[1;32m    864\u001b[0m         )\n\u001b[1;32m    865\u001b[0m \u001b[0;34m\u001b[0m\u001b[0m\n",
            "\u001b[0;32m/usr/local/lib/python3.7/dist-packages/ipykernel/kernelbase.py\u001b[0m in \u001b[0;36m_input_request\u001b[0;34m(self, prompt, ident, parent, password)\u001b[0m\n\u001b[1;32m    902\u001b[0m             \u001b[0;32mexcept\u001b[0m \u001b[0mKeyboardInterrupt\u001b[0m\u001b[0;34m:\u001b[0m\u001b[0;34m\u001b[0m\u001b[0;34m\u001b[0m\u001b[0m\n\u001b[1;32m    903\u001b[0m                 \u001b[0;31m# re-raise KeyboardInterrupt, to truncate traceback\u001b[0m\u001b[0;34m\u001b[0m\u001b[0;34m\u001b[0m\u001b[0;34m\u001b[0m\u001b[0m\n\u001b[0;32m--> 904\u001b[0;31m                 \u001b[0;32mraise\u001b[0m \u001b[0mKeyboardInterrupt\u001b[0m\u001b[0;34m(\u001b[0m\u001b[0;34m\"Interrupted by user\"\u001b[0m\u001b[0;34m)\u001b[0m \u001b[0;32mfrom\u001b[0m \u001b[0;32mNone\u001b[0m\u001b[0;34m\u001b[0m\u001b[0;34m\u001b[0m\u001b[0m\n\u001b[0m\u001b[1;32m    905\u001b[0m             \u001b[0;32mexcept\u001b[0m \u001b[0mException\u001b[0m \u001b[0;32mas\u001b[0m \u001b[0me\u001b[0m\u001b[0;34m:\u001b[0m\u001b[0;34m\u001b[0m\u001b[0;34m\u001b[0m\u001b[0m\n\u001b[1;32m    906\u001b[0m                 \u001b[0mself\u001b[0m\u001b[0;34m.\u001b[0m\u001b[0mlog\u001b[0m\u001b[0;34m.\u001b[0m\u001b[0mwarning\u001b[0m\u001b[0;34m(\u001b[0m\u001b[0;34m\"Invalid Message:\"\u001b[0m\u001b[0;34m,\u001b[0m \u001b[0mexc_info\u001b[0m\u001b[0;34m=\u001b[0m\u001b[0;32mTrue\u001b[0m\u001b[0;34m)\u001b[0m\u001b[0;34m\u001b[0m\u001b[0;34m\u001b[0m\u001b[0m\n",
            "\u001b[0;31mKeyboardInterrupt\u001b[0m: Interrupted by user"
          ]
        }
      ]
    },
    {
      "cell_type": "code",
      "source": [
        "def get_response(input_string):\n",
        "    split_message = re.split(r'\\s+|[,;?!.-]\\s*', input_string.lower())\n",
        "    score_list = []\n",
        "\n",
        "    # Check all the responses\n",
        "    for response in response_data:\n",
        "        response_score = 0\n",
        "        required_score = 0\n",
        "        required_words = response[\"required_words\"]\n",
        "\n",
        "        # Check if there are any required words\n",
        "        if required_words:\n",
        "            for word in split_message:\n",
        "                if word in required_words:\n",
        "                    required_score += 1\n",
        "\n",
        "        # Amount of required words should match the required score\n",
        "        if required_score == len(required_words):\n",
        "            # print(required_score == len(required_words))\n",
        "            # Check each word the user has typed\n",
        "            for word in split_message:\n",
        "                # If the word is in the response, add to the score\n",
        "                if word in response[\"user_input\"]:\n",
        "                    response_score += 1\n",
        "\n",
        "        # Add score to list\n",
        "        score_list.append(response_score)\n",
        "        # Debugging: Find the best phrase\n",
        "        # print(response_score, response[\"user_input\"])\n",
        "\n",
        "    # Find the best response and return it if they're not all 0\n",
        "    best_response = max(score_list)\n",
        "    response_index = score_list.index(best_response)\n",
        "\n",
        "    # Check if input is empty\n",
        "    if input_string == \"\":\n",
        "        return \"Please type something so we can chat :(\"\n",
        "\n",
        "    # If there is no good response, return a random one.\n",
        "    if best_response != 0:\n",
        "        return response_data[response_index][\"bot_response\"]\n",
        "\n",
        "    return random_responses.random_string()\n",
        "\n",
        "\n",
        "while True:\n",
        "    users_input = input(\"You: \")\n",
        "    print(\"Bot:\", get_response(user_input))\n",
        "  # if user_input \n",
        "\n"
      ],
      "metadata": {
        "colab": {
          "base_uri": "https://localhost:8080/",
          "height": 253
        },
        "id": "F7iix9E7NRmX",
        "outputId": "7d4ed020-7911-477f-b7cd-3da35e1d9c07"
      },
      "execution_count": 32,
      "outputs": [
        {
          "name": "stdout",
          "output_type": "stream",
          "text": [
            "You: hi\n"
          ]
        },
        {
          "output_type": "error",
          "ename": "NameError",
          "evalue": "ignored",
          "traceback": [
            "\u001b[0;31m---------------------------------------------------------------------------\u001b[0m",
            "\u001b[0;31mNameError\u001b[0m                                 Traceback (most recent call last)",
            "\u001b[0;32m<ipython-input-32-cdd57eddf99a>\u001b[0m in \u001b[0;36m<module>\u001b[0;34m\u001b[0m\n\u001b[1;32m     46\u001b[0m \u001b[0;32mwhile\u001b[0m \u001b[0;32mTrue\u001b[0m\u001b[0;34m:\u001b[0m\u001b[0;34m\u001b[0m\u001b[0;34m\u001b[0m\u001b[0m\n\u001b[1;32m     47\u001b[0m     \u001b[0musers_input\u001b[0m \u001b[0;34m=\u001b[0m \u001b[0minput\u001b[0m\u001b[0;34m(\u001b[0m\u001b[0;34m\"You: \"\u001b[0m\u001b[0;34m)\u001b[0m\u001b[0;34m\u001b[0m\u001b[0;34m\u001b[0m\u001b[0m\n\u001b[0;32m---> 48\u001b[0;31m     \u001b[0mprint\u001b[0m\u001b[0;34m(\u001b[0m\u001b[0;34m\"Bot:\"\u001b[0m\u001b[0;34m,\u001b[0m \u001b[0mget_response\u001b[0m\u001b[0;34m(\u001b[0m\u001b[0muser_input\u001b[0m\u001b[0;34m)\u001b[0m\u001b[0;34m)\u001b[0m\u001b[0;34m\u001b[0m\u001b[0;34m\u001b[0m\u001b[0m\n\u001b[0m\u001b[1;32m     49\u001b[0m   \u001b[0;31m# if user_input\u001b[0m\u001b[0;34m\u001b[0m\u001b[0;34m\u001b[0m\u001b[0;34m\u001b[0m\u001b[0m\n\u001b[1;32m     50\u001b[0m \u001b[0;34m\u001b[0m\u001b[0m\n",
            "\u001b[0;31mNameError\u001b[0m: name 'user_input' is not defined"
          ]
        }
      ]
    },
    {
      "cell_type": "code",
      "source": [
        "# def get_pdf_file_content(path_to_pdf):\n",
        "#     resource_manager=PDFResourceManager(caching=True)\n",
        "#     out_text = StringIO()\n",
        "#     laParams = LAParams()\n",
        "#     text_converter = TextConverter(resource_manager, out_text, laparams=laParams)\n",
        "#     fp = open(path_to_pdf,'rb')\n",
        "#     interpreter = PDFPageInterpreter(resource_manager, text_converter)\n",
        "#     for page in PDFPage.get_pages(fp, pagenos=set(), maxpages=0, password = \" \", caching = True, check_extractable = True):\n",
        "#         interpreter.process_page(page)\n",
        "    \n",
        "#     text = out_text.getvalue()\n",
        "#     fp.close()\n",
        "#     text_converter.close()\n",
        "#     out_text.close()\n",
        "\n",
        "#     return text"
      ],
      "metadata": {
        "id": "XIAmmhPArKqh"
      },
      "execution_count": null,
      "outputs": []
    },
    {
      "cell_type": "code",
      "source": [
        "#path_to_pdf = \"/content/SYD Ass 1 Uahengisa.pdf\""
      ],
      "metadata": {
        "id": "IQ7kAq7YuI7K"
      },
      "execution_count": null,
      "outputs": []
    },
    {
      "cell_type": "code",
      "source": [
        "#print(get_pdf_file_content(path_to_pdf))"
      ],
      "metadata": {
        "id": "xZ3M1DKEu2Kj"
      },
      "execution_count": null,
      "outputs": []
    },
    {
      "cell_type": "code",
      "source": [
        "# text = extract_text('/content/SYD Ass 1 Uahengisa.pdf')\n",
        "# text = extract_text('samples/simple1.pdf')\n",
        "# print(repr(text))"
      ],
      "metadata": {
        "id": "vvOfOtFwl0xA"
      },
      "execution_count": null,
      "outputs": []
    },
    {
      "cell_type": "code",
      "source": [
        "nltk.download ('punkt', quiet = True)"
      ],
      "metadata": {
        "colab": {
          "base_uri": "https://localhost:8080/"
        },
        "id": "FFZLhsba8x0W",
        "outputId": "23b9e228-48c3-40cc-cd8c-fd51192006fc"
      },
      "execution_count": 28,
      "outputs": [
        {
          "output_type": "execute_result",
          "data": {
            "text/plain": [
              "True"
            ]
          },
          "metadata": {},
          "execution_count": 28
        }
      ]
    },
    {
      "cell_type": "code",
      "source": [
        "#Get the article\n",
        "#article = Article('https://www.mayoclinic.org/diseases-conditions/chronic-kidney-disease/symptoms-causes/syc-20354521')\n",
        "article = Article('https://uwaterloo.ca/graduate-studies-postdoctoral-affairs/new-students/frequently-asked-questions-faqs-new-students') \n",
        "article.download()\n",
        "article.parse()\n",
        "article.nlp()\n",
        "\n",
        "corpus = article.text"
      ],
      "metadata": {
        "id": "iQvt039d83Ij",
        "colab": {
          "base_uri": "https://localhost:8080/",
          "height": 762
        },
        "outputId": "6242a8b2-1bdc-4bc1-9710-317b65251084"
      },
      "execution_count": 8,
      "outputs": [
        {
          "output_type": "error",
          "ename": "LookupError",
          "evalue": "ignored",
          "traceback": [
            "\u001b[0;31m---------------------------------------------------------------------------\u001b[0m",
            "\u001b[0;31mLookupError\u001b[0m                               Traceback (most recent call last)",
            "\u001b[0;32m<ipython-input-8-b6eb1b027f73>\u001b[0m in \u001b[0;36m<module>\u001b[0;34m\u001b[0m\n\u001b[1;32m      4\u001b[0m \u001b[0marticle\u001b[0m\u001b[0;34m.\u001b[0m\u001b[0mdownload\u001b[0m\u001b[0;34m(\u001b[0m\u001b[0;34m)\u001b[0m\u001b[0;34m\u001b[0m\u001b[0;34m\u001b[0m\u001b[0m\n\u001b[1;32m      5\u001b[0m \u001b[0marticle\u001b[0m\u001b[0;34m.\u001b[0m\u001b[0mparse\u001b[0m\u001b[0;34m(\u001b[0m\u001b[0;34m)\u001b[0m\u001b[0;34m\u001b[0m\u001b[0;34m\u001b[0m\u001b[0m\n\u001b[0;32m----> 6\u001b[0;31m \u001b[0marticle\u001b[0m\u001b[0;34m.\u001b[0m\u001b[0mnlp\u001b[0m\u001b[0;34m(\u001b[0m\u001b[0;34m)\u001b[0m\u001b[0;34m\u001b[0m\u001b[0;34m\u001b[0m\u001b[0m\n\u001b[0m\u001b[1;32m      7\u001b[0m \u001b[0;34m\u001b[0m\u001b[0m\n\u001b[1;32m      8\u001b[0m \u001b[0mcorpus\u001b[0m \u001b[0;34m=\u001b[0m \u001b[0marticle\u001b[0m\u001b[0;34m.\u001b[0m\u001b[0mtext\u001b[0m\u001b[0;34m\u001b[0m\u001b[0;34m\u001b[0m\u001b[0m\n",
            "\u001b[0;32m/usr/local/lib/python3.7/dist-packages/newspaper/article.py\u001b[0m in \u001b[0;36mnlp\u001b[0;34m(self)\u001b[0m\n\u001b[1;32m    359\u001b[0m         \u001b[0mmax_sents\u001b[0m \u001b[0;34m=\u001b[0m \u001b[0mself\u001b[0m\u001b[0;34m.\u001b[0m\u001b[0mconfig\u001b[0m\u001b[0;34m.\u001b[0m\u001b[0mMAX_SUMMARY_SENT\u001b[0m\u001b[0;34m\u001b[0m\u001b[0;34m\u001b[0m\u001b[0m\n\u001b[1;32m    360\u001b[0m \u001b[0;34m\u001b[0m\u001b[0m\n\u001b[0;32m--> 361\u001b[0;31m         \u001b[0msummary_sents\u001b[0m \u001b[0;34m=\u001b[0m \u001b[0mnlp\u001b[0m\u001b[0;34m.\u001b[0m\u001b[0msummarize\u001b[0m\u001b[0;34m(\u001b[0m\u001b[0mtitle\u001b[0m\u001b[0;34m=\u001b[0m\u001b[0mself\u001b[0m\u001b[0;34m.\u001b[0m\u001b[0mtitle\u001b[0m\u001b[0;34m,\u001b[0m \u001b[0mtext\u001b[0m\u001b[0;34m=\u001b[0m\u001b[0mself\u001b[0m\u001b[0;34m.\u001b[0m\u001b[0mtext\u001b[0m\u001b[0;34m,\u001b[0m \u001b[0mmax_sents\u001b[0m\u001b[0;34m=\u001b[0m\u001b[0mmax_sents\u001b[0m\u001b[0;34m)\u001b[0m\u001b[0;34m\u001b[0m\u001b[0;34m\u001b[0m\u001b[0m\n\u001b[0m\u001b[1;32m    362\u001b[0m         \u001b[0msummary\u001b[0m \u001b[0;34m=\u001b[0m \u001b[0;34m'\\n'\u001b[0m\u001b[0;34m.\u001b[0m\u001b[0mjoin\u001b[0m\u001b[0;34m(\u001b[0m\u001b[0msummary_sents\u001b[0m\u001b[0;34m)\u001b[0m\u001b[0;34m\u001b[0m\u001b[0;34m\u001b[0m\u001b[0m\n\u001b[1;32m    363\u001b[0m         \u001b[0mself\u001b[0m\u001b[0;34m.\u001b[0m\u001b[0mset_summary\u001b[0m\u001b[0;34m(\u001b[0m\u001b[0msummary\u001b[0m\u001b[0;34m)\u001b[0m\u001b[0;34m\u001b[0m\u001b[0;34m\u001b[0m\u001b[0m\n",
            "\u001b[0;32m/usr/local/lib/python3.7/dist-packages/newspaper/nlp.py\u001b[0m in \u001b[0;36msummarize\u001b[0;34m(url, title, text, max_sents)\u001b[0m\n\u001b[1;32m     43\u001b[0m \u001b[0;34m\u001b[0m\u001b[0m\n\u001b[1;32m     44\u001b[0m     \u001b[0msummaries\u001b[0m \u001b[0;34m=\u001b[0m \u001b[0;34m[\u001b[0m\u001b[0;34m]\u001b[0m\u001b[0;34m\u001b[0m\u001b[0;34m\u001b[0m\u001b[0m\n\u001b[0;32m---> 45\u001b[0;31m     \u001b[0msentences\u001b[0m \u001b[0;34m=\u001b[0m \u001b[0msplit_sentences\u001b[0m\u001b[0;34m(\u001b[0m\u001b[0mtext\u001b[0m\u001b[0;34m)\u001b[0m\u001b[0;34m\u001b[0m\u001b[0;34m\u001b[0m\u001b[0m\n\u001b[0m\u001b[1;32m     46\u001b[0m     \u001b[0mkeys\u001b[0m \u001b[0;34m=\u001b[0m \u001b[0mkeywords\u001b[0m\u001b[0;34m(\u001b[0m\u001b[0mtext\u001b[0m\u001b[0;34m)\u001b[0m\u001b[0;34m\u001b[0m\u001b[0;34m\u001b[0m\u001b[0m\n\u001b[1;32m     47\u001b[0m     \u001b[0mtitleWords\u001b[0m \u001b[0;34m=\u001b[0m \u001b[0msplit_words\u001b[0m\u001b[0;34m(\u001b[0m\u001b[0mtitle\u001b[0m\u001b[0;34m)\u001b[0m\u001b[0;34m\u001b[0m\u001b[0;34m\u001b[0m\u001b[0m\n",
            "\u001b[0;32m/usr/local/lib/python3.7/dist-packages/newspaper/nlp.py\u001b[0m in \u001b[0;36msplit_sentences\u001b[0;34m(text)\u001b[0m\n\u001b[1;32m    155\u001b[0m     \"\"\"\n\u001b[1;32m    156\u001b[0m     \u001b[0;32mimport\u001b[0m \u001b[0mnltk\u001b[0m\u001b[0;34m.\u001b[0m\u001b[0mdata\u001b[0m\u001b[0;34m\u001b[0m\u001b[0;34m\u001b[0m\u001b[0m\n\u001b[0;32m--> 157\u001b[0;31m     \u001b[0mtokenizer\u001b[0m \u001b[0;34m=\u001b[0m \u001b[0mnltk\u001b[0m\u001b[0;34m.\u001b[0m\u001b[0mdata\u001b[0m\u001b[0;34m.\u001b[0m\u001b[0mload\u001b[0m\u001b[0;34m(\u001b[0m\u001b[0;34m'tokenizers/punkt/english.pickle'\u001b[0m\u001b[0;34m)\u001b[0m\u001b[0;34m\u001b[0m\u001b[0;34m\u001b[0m\u001b[0m\n\u001b[0m\u001b[1;32m    158\u001b[0m \u001b[0;34m\u001b[0m\u001b[0m\n\u001b[1;32m    159\u001b[0m     \u001b[0msentences\u001b[0m \u001b[0;34m=\u001b[0m \u001b[0mtokenizer\u001b[0m\u001b[0;34m.\u001b[0m\u001b[0mtokenize\u001b[0m\u001b[0;34m(\u001b[0m\u001b[0mtext\u001b[0m\u001b[0;34m)\u001b[0m\u001b[0;34m\u001b[0m\u001b[0;34m\u001b[0m\u001b[0m\n",
            "\u001b[0;32m/usr/local/lib/python3.7/dist-packages/nltk/data.py\u001b[0m in \u001b[0;36mload\u001b[0;34m(resource_url, format, cache, verbose, logic_parser, fstruct_reader, encoding)\u001b[0m\n\u001b[1;32m    748\u001b[0m \u001b[0;34m\u001b[0m\u001b[0m\n\u001b[1;32m    749\u001b[0m     \u001b[0;31m# Load the resource.\u001b[0m\u001b[0;34m\u001b[0m\u001b[0;34m\u001b[0m\u001b[0;34m\u001b[0m\u001b[0m\n\u001b[0;32m--> 750\u001b[0;31m     \u001b[0mopened_resource\u001b[0m \u001b[0;34m=\u001b[0m \u001b[0m_open\u001b[0m\u001b[0;34m(\u001b[0m\u001b[0mresource_url\u001b[0m\u001b[0;34m)\u001b[0m\u001b[0;34m\u001b[0m\u001b[0;34m\u001b[0m\u001b[0m\n\u001b[0m\u001b[1;32m    751\u001b[0m \u001b[0;34m\u001b[0m\u001b[0m\n\u001b[1;32m    752\u001b[0m     \u001b[0;32mif\u001b[0m \u001b[0mformat\u001b[0m \u001b[0;34m==\u001b[0m \u001b[0;34m\"raw\"\u001b[0m\u001b[0;34m:\u001b[0m\u001b[0;34m\u001b[0m\u001b[0;34m\u001b[0m\u001b[0m\n",
            "\u001b[0;32m/usr/local/lib/python3.7/dist-packages/nltk/data.py\u001b[0m in \u001b[0;36m_open\u001b[0;34m(resource_url)\u001b[0m\n\u001b[1;32m    874\u001b[0m \u001b[0;34m\u001b[0m\u001b[0m\n\u001b[1;32m    875\u001b[0m     \u001b[0;32mif\u001b[0m \u001b[0mprotocol\u001b[0m \u001b[0;32mis\u001b[0m \u001b[0;32mNone\u001b[0m \u001b[0;32mor\u001b[0m \u001b[0mprotocol\u001b[0m\u001b[0;34m.\u001b[0m\u001b[0mlower\u001b[0m\u001b[0;34m(\u001b[0m\u001b[0;34m)\u001b[0m \u001b[0;34m==\u001b[0m \u001b[0;34m\"nltk\"\u001b[0m\u001b[0;34m:\u001b[0m\u001b[0;34m\u001b[0m\u001b[0;34m\u001b[0m\u001b[0m\n\u001b[0;32m--> 876\u001b[0;31m         \u001b[0;32mreturn\u001b[0m \u001b[0mfind\u001b[0m\u001b[0;34m(\u001b[0m\u001b[0mpath_\u001b[0m\u001b[0;34m,\u001b[0m \u001b[0mpath\u001b[0m \u001b[0;34m+\u001b[0m \u001b[0;34m[\u001b[0m\u001b[0;34m\"\"\u001b[0m\u001b[0;34m]\u001b[0m\u001b[0;34m)\u001b[0m\u001b[0;34m.\u001b[0m\u001b[0mopen\u001b[0m\u001b[0;34m(\u001b[0m\u001b[0;34m)\u001b[0m\u001b[0;34m\u001b[0m\u001b[0;34m\u001b[0m\u001b[0m\n\u001b[0m\u001b[1;32m    877\u001b[0m     \u001b[0;32melif\u001b[0m \u001b[0mprotocol\u001b[0m\u001b[0;34m.\u001b[0m\u001b[0mlower\u001b[0m\u001b[0;34m(\u001b[0m\u001b[0;34m)\u001b[0m \u001b[0;34m==\u001b[0m \u001b[0;34m\"file\"\u001b[0m\u001b[0;34m:\u001b[0m\u001b[0;34m\u001b[0m\u001b[0;34m\u001b[0m\u001b[0m\n\u001b[1;32m    878\u001b[0m         \u001b[0;31m# urllib might not use mode='rb', so handle this one ourselves:\u001b[0m\u001b[0;34m\u001b[0m\u001b[0;34m\u001b[0m\u001b[0;34m\u001b[0m\u001b[0m\n",
            "\u001b[0;32m/usr/local/lib/python3.7/dist-packages/nltk/data.py\u001b[0m in \u001b[0;36mfind\u001b[0;34m(resource_name, paths)\u001b[0m\n\u001b[1;32m    581\u001b[0m     \u001b[0msep\u001b[0m \u001b[0;34m=\u001b[0m \u001b[0;34m\"*\"\u001b[0m \u001b[0;34m*\u001b[0m \u001b[0;36m70\u001b[0m\u001b[0;34m\u001b[0m\u001b[0;34m\u001b[0m\u001b[0m\n\u001b[1;32m    582\u001b[0m     \u001b[0mresource_not_found\u001b[0m \u001b[0;34m=\u001b[0m \u001b[0;34mf\"\\n{sep}\\n{msg}\\n{sep}\\n\"\u001b[0m\u001b[0;34m\u001b[0m\u001b[0;34m\u001b[0m\u001b[0m\n\u001b[0;32m--> 583\u001b[0;31m     \u001b[0;32mraise\u001b[0m \u001b[0mLookupError\u001b[0m\u001b[0;34m(\u001b[0m\u001b[0mresource_not_found\u001b[0m\u001b[0;34m)\u001b[0m\u001b[0;34m\u001b[0m\u001b[0;34m\u001b[0m\u001b[0m\n\u001b[0m\u001b[1;32m    584\u001b[0m \u001b[0;34m\u001b[0m\u001b[0m\n\u001b[1;32m    585\u001b[0m \u001b[0;34m\u001b[0m\u001b[0m\n",
            "\u001b[0;31mLookupError\u001b[0m: \n**********************************************************************\n  Resource \u001b[93mpunkt\u001b[0m not found.\n  Please use the NLTK Downloader to obtain the resource:\n\n  \u001b[31m>>> import nltk\n  >>> nltk.download('punkt')\n  \u001b[0m\n  For more information see: https://www.nltk.org/data.html\n\n  Attempted to load \u001b[93mtokenizers/punkt/PY3/english.pickle\u001b[0m\n\n  Searched in:\n    - '/root/nltk_data'\n    - '/usr/nltk_data'\n    - '/usr/share/nltk_data'\n    - '/usr/lib/nltk_data'\n    - '/usr/share/nltk_data'\n    - '/usr/local/share/nltk_data'\n    - '/usr/lib/nltk_data'\n    - '/usr/local/lib/nltk_data'\n    - ''\n**********************************************************************\n"
          ]
        }
      ]
    },
    {
      "cell_type": "code",
      "source": [
        "#Print website content\n",
        "print(corpus)"
      ],
      "metadata": {
        "id": "DEx6Oivl8_RN",
        "colab": {
          "base_uri": "https://localhost:8080/"
        },
        "outputId": "62ecfa1b-8f43-4b00-ed69-7c5071c790a9"
      },
      "execution_count": 30,
      "outputs": [
        {
          "output_type": "stream",
          "name": "stdout",
          "text": [
            "As you navigate the next exciting chapter of your academic life by starting your master’s or doctoral degree, we know you may have some questions. Below we provide you with some answers! If you don’t see your question (and your answer!), please explore the ways that you can connect with us to access the information you need.\n",
            "\n",
            "General COVID-19 related questions\n",
            "\n",
            "For answers to your general COVID-19 questions, including proof of vaccination status, campus Check-In tools, masks and facilities, visit the Frequently ask questions page on the COVID-19 information website.\n",
            "\n",
            "Return to top\n",
            "\n",
            "International students\n",
            "\n",
            "Our colleagues in the Student Success Office, including immigration consultants, have provided a comprehensive list of questions and answers for international students. We encourage you to review the questions on the main FAQ Covid page.\n",
            "\n",
            "TOEFL AND GRE testing centres are closed in certain countries. What are my options for English Language Proficiency tests?\n",
            "\n",
            "If testing centres are closed, the following options are available for test-takers:\n",
            "\n",
            "English Language Proficiency\n",
            "\n",
            "TOEFL iBT Special Home Edition® is available in all areas that TOEFL iBT testing is normally available, except for Iran.\n",
            "\n",
            "For those students not able to use the TOEFL at-home test:\n",
            "\n",
            "The Duolingo English Test results may be used for possible placement in our English for Academic Success (EFAS) offered online through University of Waterloo, Renison University College, English Language Institute\n",
            "\n",
            "Duolingo score plus EFAS requirement for results to satisfy ELPC for Graduate Studies of 75% overall in level 400 with at least 75% in writing, oral and academic skills 85-94: 2 terms of English language support (EFAS) 95-104: 1 term of English language support (EFAS) 105+: good candidate for summer intensive support (EFAS)\n",
            "\n",
            "\n",
            "\n",
            "GRE and GMAT\n",
            "\n",
            "The GRE® General Test at Home is available everywhere the computer-delivered GRE General Test is offered, except for Iran.\n",
            "\n",
            "The GMAT Online exam is available in most locations, except for Mainland China, Cuba, Iran, North Korea, Sudan and Slovenia due to local data privacy rules.\n",
            "\n",
            "Return to top\n",
            "\n",
            "How and when should I enrol in my classes?\n",
            "\n",
            "Visit the important dates calendar for graduate studies to determine the beginning of the enrolment period for the term in which you are starting your graduate program. Students who have been matriculated (made active in their program) can enrol for courses through Quest.\n",
            "\n",
            "What supports are there to help new students?\n",
            "\n",
            "Waterloo Grad Ready program is designed especially for master’s and doctoral students. The program will connect you to other graduate students, support you along your academic journey to Waterloo and make sure you’re keeping up to date with important deadlines. You will receive more information about Waterloo Grad Ready in your inbox.\n",
            "\n",
            "Where do I find information about the breakdown of tuition and fees?\n",
            "\n",
            "Information about tuition and fees can be found on the Student Financial Services website.\n",
            "\n",
            "How do I activate my UWaterloo email address?\n",
            "\n",
            "Once you have been matriculated (made active) in your program, you can activate your UWaterloo email address. To do so, follow the steps on the Office 365 web page to activate your account. If you require any technical support activating your account, contact the IST Service Desk.\n",
            "\n",
            "Where do I find the degree requirements for my program?\n",
            "\n",
            "The Graduate Studies Academic Calendar contains the official degree requirements for each program offered at the University of Waterloo.\n",
            "\n",
            "Return to top\n",
            "\n",
            "Admissions\n",
            "\n",
            "Can I defer my offer of admission to a later term?\n",
            "\n",
            "Deferrals are managed by the academic program to which you have applied. If you wish to defer your admission, please contact your graduate program co-ordinator with your request.\n",
            "\n",
            "Do you accept electronic transcripts to clear my conditions?\n",
            "\n",
            "We will work with you to ensure your documents are received by your start date. To clear your conditions of admission: We will accept electronic transcripts provided by the issuing institution. Please have electronic transcripts sent directly from the issuing institution to gradadmissions@uwaterloo.ca . The documents from your institution must be received in a single PDF and include sender’s institution email address, full name and affiliation. GSPA will accept official secure electronic transcripts provided by the issuing institution and from services such as MyCreds, CHESICC, Digitary, eScript-Safe, National Student Clearinghouse, Parchment or TranscriptsNetwork. If your institution issues a secure electronic transcript, please have it sent to gradadmissions@uwaterloo.ca . We will accept official hard copy transcripts sent from the issuing institution directly to Graduate Studies and Postdoctoral Affairs If your institution is closed and/or cannot produce electronic transcripts, we will temporarily accept unofficial transcripts. Please send documentation (a screenshot) proving that the institution cannot produce electronic transcripts at this time to gradadmissions@uwaterloo.ca, along with an updated copy of your unofficial transcript. We will extend the due date on your outstanding conditions as indicated in your student center in Quest. This will allow you to register for your courses and become fees arranged. We will assess and evaluate your official and final documents when they become available. If your documents have already been mailed, but your Student Quest account indicates that you still have outstanding conditions, please send documentation (tracking number or confirmation that it has been delivered) to gradadmissions@uwaterloo.ca\n",
            "\n",
            "\n",
            "\n",
            "Return to top\n",
            "\n",
            "Accommodations\n",
            "\n",
            "What housing options are available to graduate students? What meal plans are available to graduate students?\n",
            "\n",
            "Do I have to be vaccinated to live in residence?\n",
            "\n",
            "Visit the COVID-19 information website for the latest information on vaccine requirements.\n",
            "\n",
            "Return to top\n",
            "\n",
            "Awards and funding\n",
            "\n",
            "How and when do I apply for funding for graduate school?\n",
            "\n",
            "There are a variety of opportunities to help support you in funding your education. For information, check out our scholarship competition resources web page.\n",
            "\n",
            "Campus access\n",
            "\n",
            "Visit the COVID-19 information website for the latest information about returning to campus.\n",
            "\n",
            "Return to top\n"
          ]
        }
      ]
    },
    {
      "cell_type": "code",
      "source": [
        "#Tokenization\n",
        "text = corpus\n",
        "sentence_list = nltk.sent_tokenize(text) #List of sentence"
      ],
      "metadata": {
        "id": "DsXNQMs-_SkB"
      },
      "execution_count": 31,
      "outputs": []
    },
    {
      "cell_type": "code",
      "source": [
        "#Print list of sentences on the website\n",
        "print(sentence_list)"
      ],
      "metadata": {
        "colab": {
          "base_uri": "https://localhost:8080/"
        },
        "id": "yh27XyKaAbeP",
        "outputId": "ea1e5715-1500-439a-f680-9eaf82127002"
      },
      "execution_count": 32,
      "outputs": [
        {
          "output_type": "stream",
          "name": "stdout",
          "text": [
            "['As you navigate the next exciting chapter of your academic life by starting your master’s or doctoral degree, we know you may have some questions.', 'Below we provide you with some answers!', 'If you don’t see your question (and your answer!', '), please explore the ways that you can connect with us to access the information you need.', 'General COVID-19 related questions\\n\\nFor answers to your general COVID-19 questions, including proof of vaccination status, campus Check-In tools, masks and facilities, visit the Frequently ask questions page on the COVID-19 information website.', 'Return to top\\n\\nInternational students\\n\\nOur colleagues in the Student Success Office, including immigration consultants, have provided a comprehensive list of questions and answers for international students.', 'We encourage you to review the questions on the main FAQ Covid page.', 'TOEFL AND GRE testing centres are closed in certain countries.', 'What are my options for English Language Proficiency tests?', 'If testing centres are closed, the following options are available for test-takers:\\n\\nEnglish Language Proficiency\\n\\nTOEFL iBT Special Home Edition® is available in all areas that TOEFL iBT testing is normally available, except for Iran.', 'For those students not able to use the TOEFL at-home test:\\n\\nThe Duolingo English Test results may be used for possible placement in our English for Academic Success (EFAS) offered online through University of Waterloo, Renison University College, English Language Institute\\n\\nDuolingo score plus EFAS requirement for results to satisfy ELPC for Graduate Studies of 75% overall in level 400 with at least 75% in writing, oral and academic skills 85-94: 2 terms of English language support (EFAS) 95-104: 1 term of English language support (EFAS) 105+: good candidate for summer intensive support (EFAS)\\n\\n\\n\\nGRE and GMAT\\n\\nThe GRE® General Test at Home is available everywhere the computer-delivered GRE General Test is offered, except for Iran.', 'The GMAT Online exam is available in most locations, except for Mainland China, Cuba, Iran, North Korea, Sudan and Slovenia due to local data privacy rules.', 'Return to top\\n\\nHow and when should I enrol in my classes?', 'Visit the important dates calendar for graduate studies to determine the beginning of the enrolment period for the term in which you are starting your graduate program.', 'Students who have been matriculated (made active in their program) can enrol for courses through Quest.', 'What supports are there to help new students?', 'Waterloo Grad Ready program is designed especially for master’s and doctoral students.', 'The program will connect you to other graduate students, support you along your academic journey to Waterloo and make sure you’re keeping up to date with important deadlines.', 'You will receive more information about Waterloo Grad Ready in your inbox.', 'Where do I find information about the breakdown of tuition and fees?', 'Information about tuition and fees can be found on the Student Financial Services website.', 'How do I activate my UWaterloo email address?', 'Once you have been matriculated (made active) in your program, you can activate your UWaterloo email address.', 'To do so, follow the steps on the Office 365 web page to activate your account.', 'If you require any technical support activating your account, contact the IST Service Desk.', 'Where do I find the degree requirements for my program?', 'The Graduate Studies Academic Calendar contains the official degree requirements for each program offered at the University of Waterloo.', 'Return to top\\n\\nAdmissions\\n\\nCan I defer my offer of admission to a later term?', 'Deferrals are managed by the academic program to which you have applied.', 'If you wish to defer your admission, please contact your graduate program co-ordinator with your request.', 'Do you accept electronic transcripts to clear my conditions?', 'We will work with you to ensure your documents are received by your start date.', 'To clear your conditions of admission: We will accept electronic transcripts provided by the issuing institution.', 'Please have electronic transcripts sent directly from the issuing institution to gradadmissions@uwaterloo.ca .', 'The documents from your institution must be received in a single PDF and include sender’s institution email address, full name and affiliation.', 'GSPA will accept official secure electronic transcripts provided by the issuing institution and from services such as MyCreds, CHESICC, Digitary, eScript-Safe, National Student Clearinghouse, Parchment or TranscriptsNetwork.', 'If your institution issues a secure electronic transcript, please have it sent to gradadmissions@uwaterloo.ca .', 'We will accept official hard copy transcripts sent from the issuing institution directly to Graduate Studies and Postdoctoral Affairs If your institution is closed and/or cannot produce electronic transcripts, we will temporarily accept unofficial transcripts.', 'Please send documentation (a screenshot) proving that the institution cannot produce electronic transcripts at this time to gradadmissions@uwaterloo.ca, along with an updated copy of your unofficial transcript.', 'We will extend the due date on your outstanding conditions as indicated in your student center in Quest.', 'This will allow you to register for your courses and become fees arranged.', 'We will assess and evaluate your official and final documents when they become available.', 'If your documents have already been mailed, but your Student Quest account indicates that you still have outstanding conditions, please send documentation (tracking number or confirmation that it has been delivered) to gradadmissions@uwaterloo.ca\\n\\n\\n\\nReturn to top\\n\\nAccommodations\\n\\nWhat housing options are available to graduate students?', 'What meal plans are available to graduate students?', 'Do I have to be vaccinated to live in residence?', 'Visit the COVID-19 information website for the latest information on vaccine requirements.', 'Return to top\\n\\nAwards and funding\\n\\nHow and when do I apply for funding for graduate school?', 'There are a variety of opportunities to help support you in funding your education.', 'For information, check out our scholarship competition resources web page.', 'Campus access\\n\\nVisit the COVID-19 information website for the latest information about returning to campus.', 'Return to top']\n"
          ]
        }
      ]
    },
    {
      "cell_type": "code",
      "source": [
        "# A function to return a random greeting response to a users greeting\n",
        "def greet_response(text):\n",
        " text = text.lower()\n",
        " #Bots greeting response\n",
        " bot_greeting = ['howdy', 'hi', 'hey', 'hello', 'hola', 'wassup']\n",
        " #Users greeting\n",
        " user_greeting = ['hi', 'hello', 'wassup', 'heyyy', 'hola', 'yo', 'hey']\n",
        "\n",
        " for word in text.split():\n",
        "   if word in user_greeting:\n",
        "     return random.choice(bot_greeting)"
      ],
      "metadata": {
        "id": "glsZ-6dAApUk"
      },
      "execution_count": 37,
      "outputs": []
    },
    {
      "cell_type": "code",
      "source": [
        "def index_sort(list_var):\n",
        "  length = len(list_var)\n",
        "  list_index = list(range(0, length))\n",
        "  \n",
        "  x = list_var\n",
        "  for i in range(length):\n",
        "   for j in range(length):\n",
        "     if x[list_index[i]] > x[list_index[j]] :\n",
        "       \n",
        "       #Swap\n",
        "       temp = list_index[i]\n",
        "       list_index[i] = list_index[j]\n",
        "       list_index[j] = temp\n",
        "  return list_index"
      ],
      "metadata": {
        "id": "cUj-Gfy7E2OS"
      },
      "execution_count": 38,
      "outputs": []
    },
    {
      "cell_type": "code",
      "source": [
        "#Create the chatbots responses\n",
        "def bot_response(user_input):\n",
        "  user_input = user_input.lower()\n",
        "  sentence_list.append(user_input) #pin\n",
        "  bot_response = ''\n",
        "  cm = CountVectorizer().fit_transform(sentence_list)\n",
        "  similarity_scores = cosine_similarity(cm[-1], cm)\n",
        "  similarity_scores_list = similarity_scores.flatten()\n",
        "  index = index_sort(similarity_scores_list)\n",
        "  index = index[1:]\n",
        "  response_flag = 0\n",
        "\n",
        "  j = 0\n",
        "  for i in range(len(index)):\n",
        "    if similarity_scores_list[index[i]] > 0.0:\n",
        "      bot_response = bot_response+sentence_list[index[i]]\n",
        "      response_flag = 1\n",
        "\n",
        "      #return bot_response\n",
        "    j = j+1\n",
        "    if j > 2:\n",
        "      return bot_response\n",
        "      break\n",
        "      \n",
        "\n",
        "\n",
        "    if response_flag == 0:\n",
        "      bot_response = bot_response+' '+\"Apologies , I don't understand.\"\n",
        "      \n",
        "      sentence_list.remove(user_input)\n",
        "\n",
        "      return bot_response\n"
      ],
      "metadata": {
        "id": "J2jJrJ2FDYS1"
      },
      "execution_count": 35,
      "outputs": []
    },
    {
      "cell_type": "code",
      "source": [
        "#Start the conversation\n",
        "print('Assistant Gisa: I am Gisa and I will answer queries regarding registration at NUST!')\n",
        "\n",
        "exit_list = ['goodbye', 'end', 'see you later', 'bye', 'ciao', 'exit', 'quit', 'terminate']\n",
        "\n",
        "while(True):\n",
        "  user_input = input(\"You: \")\n",
        "\n",
        "#while True:\n",
        " #   user_input = input(\"You: \")\n",
        "  #  print(\"Bot:\", get_response(user_input))\n",
        "\n",
        "  if user_input.lower() in exit_list:\n",
        "     print('Assistant Gisa, Out!')\n",
        "     break\n",
        "\n",
        "else:\n",
        "    if greeting_response(user_input) != None:\n",
        "      print('Assistant Gisa: ' + greeting_response(user_input))\n",
        "    else:\n",
        "      print(\"Assistant Gisa: \" + bot_response(user_input))\n",
        "      "
      ],
      "metadata": {
        "colab": {
          "base_uri": "https://localhost:8080/"
        },
        "id": "nSm3N-igPC4n",
        "outputId": "6ec9d0a2-f7aa-43ff-a412-8028a62425de"
      },
      "execution_count": 39,
      "outputs": [
        {
          "output_type": "stream",
          "name": "stdout",
          "text": [
            "Assistant Gisa: I am Gisa and I will answer queries regarding registration at NUST!\n",
            "You: bye\n",
            "Assistant Gisa, Out!\n"
          ]
        }
      ]
    }
  ]
}